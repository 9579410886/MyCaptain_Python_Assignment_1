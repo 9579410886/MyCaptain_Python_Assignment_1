{
 "cells": [
  {
   "cell_type": "code",
   "execution_count": 3,
   "id": "40cba593",
   "metadata": {},
   "outputs": [
    {
     "name": "stdout",
     "output_type": "stream",
     "text": [
      "0\n",
      "1\n",
      "2\n",
      "3\n",
      "###########################\n",
      "0\n",
      "1\n",
      "2\n",
      "4\n"
     ]
    }
   ],
   "source": [
    "#break statement in for loop\n",
    "for i in range(0,5):\n",
    "    print(i)\n",
    "    if i==3:\n",
    "        break  \n",
    "        \n",
    "print(\"###########################\")\n",
    "        \n",
    "#continue statement in for loop\n",
    "for i in range(0,5):\n",
    "    if i==3:\n",
    "        continue\n",
    "    print(i)"
   ]
  },
  {
   "cell_type": "code",
   "execution_count": 5,
   "id": "a57b982f",
   "metadata": {},
   "outputs": [
    {
     "name": "stdout",
     "output_type": "stream",
     "text": [
      "1\n",
      "2\n",
      "3\n",
      "##############################\n",
      "1\n",
      "2\n",
      "4\n",
      "5\n"
     ]
    }
   ],
   "source": [
    "#break statement in while loop\n",
    "i=1\n",
    "while i<5:\n",
    "    print(i)\n",
    "    if i==3:\n",
    "        break\n",
    "    i +=1\n",
    "    \n",
    "print(\"##############################\")\n",
    "#continue statement in while loop\n",
    "\n",
    "i=0\n",
    "while i<5:\n",
    "    i=i+1\n",
    "    if i ==3:\n",
    "        continue\n",
    "    print(i)"
   ]
  },
  {
   "cell_type": "code",
   "execution_count": 1,
   "id": "50bac073",
   "metadata": {},
   "outputs": [
    {
     "name": "stdout",
     "output_type": "stream",
     "text": [
      "Enter rows number 4\n",
      "   * \n",
      "  * * \n",
      " * * * \n",
      "* * * * \n"
     ]
    }
   ],
   "source": [
    "#pattern\n",
    "n=int(input(\"Enter rows number \"))\n",
    "k= n-1\n",
    "for i in range(0,n):\n",
    "    for j in range(0, k):\n",
    "        print(end=\" \")\n",
    "    k=k-1\n",
    "    for j in range(0,i+1):\n",
    "        print(\"*\",end=\" \")\n",
    "    print(\"\\r\")\n",
    "   \n",
    "        "
   ]
  },
  {
   "cell_type": "code",
   "execution_count": 57,
   "id": "c208cf66",
   "metadata": {},
   "outputs": [
    {
     "name": "stdout",
     "output_type": "stream",
     "text": [
      "{'name': 'Pankaj', 'roll_no': 33206, 'college': 'Pict', 'city': 'Pune'}\n",
      "33206\n",
      "dict_keys(['name', 'roll_no', 'college', 'city'])\n",
      "dict_values(['Pankaj', 33206, 'Pict', 'Pune'])\n",
      "dict_items([('name', 'Pankaj'), ('roll_no', 33206), ('college', 'Pict'), ('city', 'Pune')])\n",
      "Pune\n",
      "{'name': 'Pankaj', 'roll_no': 33206, 'college': 'Pict', 'city': 'Pune'}\n",
      "{'name': 'Pankaj', 'roll_no': 33206, 'college': 'Pict', 'city': 'Pune', 'pincode': '123456'}\n",
      "Pune\n",
      "{'name': 'Pankaj', 'roll_no': 33206, 'college': 'Pict', 'pincode': '123456'}\n",
      "{'name': 'Pankaj', 'roll_no': 33206, 'college': 'Pict'}\n",
      "{}\n"
     ]
    }
   ],
   "source": [
    "#Dictionary methods\n",
    "my_dict={\"name\":\"Pankaj\",\"roll_no\":33206, \"college\":\"Pict\", \"city\":\"Pune\"}\n",
    "\n",
    "\n",
    "print(my_dict)\n",
    "print(my_dict['roll_no'])\n",
    "print(my_dict.keys())\n",
    "print(my_dict.values())\n",
    "print(my_dict.items())\n",
    "print(my_dict.get(\"city\"))\n",
    "a=my_dict.copy()\n",
    "print(a)\n",
    "my_dict.update({'pincode':'123456'})\n",
    "print(my_dict)\n",
    "\n",
    "print(my_dict.pop(\"city\"))\n",
    "print(my_dict)\n",
    "my_dict.popitem()  #for last key & value\n",
    "print(my_dict)\n",
    "my_dict.clear()\n",
    "print(my_dict)"
   ]
  }
 ],
 "metadata": {
  "kernelspec": {
   "display_name": "Python 3",
   "language": "python",
   "name": "python3"
  },
  "language_info": {
   "codemirror_mode": {
    "name": "ipython",
    "version": 3
   },
   "file_extension": ".py",
   "mimetype": "text/x-python",
   "name": "python",
   "nbconvert_exporter": "python",
   "pygments_lexer": "ipython3",
   "version": "3.8.8"
  }
 },
 "nbformat": 4,
 "nbformat_minor": 5
}
